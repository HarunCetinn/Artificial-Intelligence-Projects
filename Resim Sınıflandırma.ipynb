{
 "cells": [
  {
   "cell_type": "code",
   "execution_count": 1,
   "id": "c50eb81b",
   "metadata": {},
   "outputs": [
    {
     "data": {
      "text/plain": [
       "'2.10.0'"
      ]
     },
     "execution_count": 1,
     "metadata": {},
     "output_type": "execute_result"
    }
   ],
   "source": [
    "import tensorflow as tf\n",
    "tf.__version__"
   ]
  },
  {
   "cell_type": "code",
   "execution_count": 2,
   "id": "15caa18c",
   "metadata": {},
   "outputs": [],
   "source": [
    "mnist = tf.keras.datasets.mnist  ### VERİ YÜKLEME ###\n",
    "(x_train,y_train),(x_test,y_test) = mnist.load_data() ## Veri setini yükledik"
   ]
  },
  {
   "cell_type": "code",
   "execution_count": 3,
   "id": "49d6399b",
   "metadata": {},
   "outputs": [],
   "source": [
    "### VERİ ÖN İŞLEME ###\n",
    "x_train, x_test = x_train/255.0, x_test/255.0"
   ]
  },
  {
   "cell_type": "code",
   "execution_count": 4,
   "id": "b61e94bf",
   "metadata": {},
   "outputs": [
    {
     "data": {
      "text/plain": [
       "(60000, 28, 28)"
      ]
     },
     "execution_count": 4,
     "metadata": {},
     "output_type": "execute_result"
    }
   ],
   "source": [
    "x_train.shape"
   ]
  },
  {
   "cell_type": "code",
   "execution_count": 5,
   "id": "4f11af56",
   "metadata": {},
   "outputs": [
    {
     "data": {
      "text/plain": [
       "(10000, 28, 28)"
      ]
     },
     "execution_count": 5,
     "metadata": {},
     "output_type": "execute_result"
    }
   ],
   "source": [
    "x_test.shape"
   ]
  },
  {
   "cell_type": "code",
   "execution_count": 6,
   "id": "eb34c4c8",
   "metadata": {},
   "outputs": [],
   "source": [
    "### MODEL KURMA ###\n",
    "model= tf.keras.Sequential([\n",
    "    tf.keras.layers.Flatten(input_shape=(28,28)),\n",
    "    tf.keras.layers.Dense(128,activation='relu'), #nöron sayısı belirledik\n",
    "    tf.keras.layers.Dropout(0.2), #overfittingi çözmek için düzleştirme yaptık\n",
    "    tf.keras.layers.Dense(10) #kategori sayısı 10dur\n",
    "])"
   ]
  },
  {
   "cell_type": "code",
   "execution_count": 7,
   "id": "121741c8",
   "metadata": {},
   "outputs": [
    {
     "data": {
      "text/plain": [
       "array([[ 0.12993239, -0.6057707 , -0.06336705, -0.23128161,  0.20214556,\n",
       "        -0.28751338,  0.48243847, -0.00662355,  0.38016325, -0.6811406 ]],\n",
       "      dtype=float32)"
      ]
     },
     "execution_count": 7,
     "metadata": {},
     "output_type": "execute_result"
    }
   ],
   "source": [
    "predictions = model(x_train[:1]).numpy()\n",
    "predictions #ilk eğitim verisini alıp ekrana yazdırdık"
   ]
  },
  {
   "cell_type": "code",
   "execution_count": 8,
   "id": "f5b90436",
   "metadata": {},
   "outputs": [
    {
     "data": {
      "text/plain": [
       "array([[0.1141874 , 0.054715  , 0.09411727, 0.07956919, 0.12273826,\n",
       "        0.07521835, 0.16244623, 0.09961224, 0.14665338, 0.05074271]],\n",
       "      dtype=float32)"
      ]
     },
     "execution_count": 8,
     "metadata": {},
     "output_type": "execute_result"
    }
   ],
   "source": [
    "tf.nn.softmax(predictions).numpy()"
   ]
  },
  {
   "cell_type": "code",
   "execution_count": 9,
   "id": "bb9243a3",
   "metadata": {},
   "outputs": [
    {
     "data": {
      "text/plain": [
       "1.1769392"
      ]
     },
     "execution_count": 9,
     "metadata": {},
     "output_type": "execute_result"
    }
   ],
   "source": [
    "y_true =[1,2]\n",
    "y_pred = [[0.05,0.95,0],[0.1,0.8,0.1]]\n",
    "scce = tf.keras.losses.SparseCategoricalCrossentropy()   #Kayıp hesaplaması yaptık\n",
    "scce(y_true,y_pred).numpy()"
   ]
  },
  {
   "cell_type": "code",
   "execution_count": 10,
   "id": "06f3c0ca",
   "metadata": {},
   "outputs": [],
   "source": [
    "loss_fn = tf.keras.losses.SparseCategoricalCrossentropy(from_logits = True)"
   ]
  },
  {
   "cell_type": "code",
   "execution_count": 11,
   "id": "ebf213ce",
   "metadata": {},
   "outputs": [
    {
     "data": {
      "text/plain": [
       "2.58736"
      ]
     },
     "execution_count": 11,
     "metadata": {},
     "output_type": "execute_result"
    }
   ],
   "source": [
    "loss_fn(y_train[:1],predictions).numpy() #Eğitim değil gerçek verilere göre hata değerimiz"
   ]
  },
  {
   "cell_type": "code",
   "execution_count": 12,
   "id": "b702b588",
   "metadata": {},
   "outputs": [],
   "source": [
    "###Ağırlık Güncelleme ###\n",
    "model.compile(optimizer=\"adam\",\n",
    "              loss=loss_fn,\n",
    "              metrics=[\"accuracy\"])\n"
   ]
  },
  {
   "cell_type": "code",
   "execution_count": 13,
   "id": "e769fa0b",
   "metadata": {},
   "outputs": [
    {
     "name": "stdout",
     "output_type": "stream",
     "text": [
      "Epoch 1/5\n",
      "1875/1875 [==============================] - 10s 4ms/step - loss: 0.2973 - accuracy: 0.9147\n",
      "Epoch 2/5\n",
      "1875/1875 [==============================] - 7s 4ms/step - loss: 0.1454 - accuracy: 0.9573\n",
      "Epoch 3/5\n",
      "1875/1875 [==============================] - 7s 4ms/step - loss: 0.1095 - accuracy: 0.9671\n",
      "Epoch 4/5\n",
      "1875/1875 [==============================] - 7s 4ms/step - loss: 0.0881 - accuracy: 0.9725\n",
      "Epoch 5/5\n",
      "1875/1875 [==============================] - 7s 4ms/step - loss: 0.0754 - accuracy: 0.9758\n"
     ]
    },
    {
     "data": {
      "text/plain": [
       "<keras.callbacks.History at 0x1ea7b0ebf70>"
      ]
     },
     "execution_count": 13,
     "metadata": {},
     "output_type": "execute_result"
    }
   ],
   "source": [
    "model.fit(x_train,y_train,epochs=5) ##model eğitimi"
   ]
  },
  {
   "cell_type": "code",
   "execution_count": 14,
   "id": "140c645f",
   "metadata": {},
   "outputs": [
    {
     "name": "stdout",
     "output_type": "stream",
     "text": [
      "313/313 - 1s - loss: 0.0727 - accuracy: 0.9769 - 1s/epoch - 4ms/step\n"
     ]
    },
    {
     "data": {
      "text/plain": [
       "[0.07270429283380508, 0.9768999814987183]"
      ]
     },
     "execution_count": 14,
     "metadata": {},
     "output_type": "execute_result"
    }
   ],
   "source": [
    "model.evaluate(x_test,y_test,verbose=2) #test verisi ile ölçüm"
   ]
  },
  {
   "cell_type": "code",
   "execution_count": 15,
   "id": "2f5d73aa",
   "metadata": {},
   "outputs": [],
   "source": [
    "##Yeni Veri Tahmini ##\n",
    "probability_model = tf.keras.Sequential([\n",
    "    model,\n",
    "    tf.keras.layers.Softmax()\n",
    "])"
   ]
  },
  {
   "cell_type": "code",
   "execution_count": 16,
   "id": "dac0fda4",
   "metadata": {},
   "outputs": [
    {
     "name": "stdout",
     "output_type": "stream",
     "text": [
      "1/1 [==============================] - 0s 126ms/step\n"
     ]
    },
    {
     "data": {
      "text/plain": [
       "array([[1.8453207e-08, 1.3205992e-07, 4.0831892e-05, 4.5345930e-04,\n",
       "        5.3946066e-11, 2.6219834e-05, 3.8978096e-10, 9.9947709e-01,\n",
       "        1.6924258e-07, 2.1409280e-06]], dtype=float32)"
      ]
     },
     "execution_count": 16,
     "metadata": {},
     "output_type": "execute_result"
    }
   ],
   "source": [
    "predictions=probability_model.predict(x_test[:1])\n",
    "predictions"
   ]
  },
  {
   "cell_type": "code",
   "execution_count": 17,
   "id": "68b8f50c",
   "metadata": {},
   "outputs": [
    {
     "data": {
      "text/plain": [
       "7"
      ]
     },
     "execution_count": 17,
     "metadata": {},
     "output_type": "execute_result"
    }
   ],
   "source": [
    "import numpy as np\n",
    "np.argmax(predictions[0])"
   ]
  },
  {
   "cell_type": "code",
   "execution_count": 18,
   "id": "af8dfce9",
   "metadata": {},
   "outputs": [
    {
     "data": {
      "text/plain": [
       "7"
      ]
     },
     "execution_count": 18,
     "metadata": {},
     "output_type": "execute_result"
    }
   ],
   "source": [
    "y_test[:1][0] ##model resmin etiketini doğru tahmin etti."
   ]
  },
  {
   "cell_type": "code",
   "execution_count": null,
   "id": "0a9e3ae6",
   "metadata": {},
   "outputs": [],
   "source": []
  }
 ],
 "metadata": {
  "kernelspec": {
   "display_name": "Python 3 (ipykernel)",
   "language": "python",
   "name": "python3"
  },
  "language_info": {
   "codemirror_mode": {
    "name": "ipython",
    "version": 3
   },
   "file_extension": ".py",
   "mimetype": "text/x-python",
   "name": "python",
   "nbconvert_exporter": "python",
   "pygments_lexer": "ipython3",
   "version": "3.10.9"
  }
 },
 "nbformat": 4,
 "nbformat_minor": 5
}
