{
 "cells": [
  {
   "cell_type": "code",
   "execution_count": 1,
   "id": "bb963b2f",
   "metadata": {},
   "outputs": [],
   "source": [
    "from keras.datasets import mnist\n",
    "(x_train, y_train), (x_test,y_test) = mnist.load_data()"
   ]
  },
  {
   "cell_type": "code",
   "execution_count": 2,
   "id": "1f2627c7",
   "metadata": {},
   "outputs": [
    {
     "data": {
      "text/plain": [
       "(60000, 28, 28)"
      ]
     },
     "execution_count": 2,
     "metadata": {},
     "output_type": "execute_result"
    }
   ],
   "source": [
    "x_train.shape #Girdi eğitim verisi"
   ]
  },
  {
   "cell_type": "code",
   "execution_count": 3,
   "id": "ea692c40",
   "metadata": {},
   "outputs": [
    {
     "data": {
      "text/plain": [
       "array([5, 0, 4, ..., 5, 6, 8], dtype=uint8)"
      ]
     },
     "execution_count": 3,
     "metadata": {},
     "output_type": "execute_result"
    }
   ],
   "source": [
    "y_train #Çıktı eğitim verisi"
   ]
  },
  {
   "cell_type": "code",
   "execution_count": 4,
   "id": "b1be27a3",
   "metadata": {},
   "outputs": [
    {
     "data": {
      "text/plain": [
       "(10000, 28, 28)"
      ]
     },
     "execution_count": 4,
     "metadata": {},
     "output_type": "execute_result"
    }
   ],
   "source": [
    "x_test.shape #girdi test verisi"
   ]
  },
  {
   "cell_type": "code",
   "execution_count": 5,
   "id": "85d0a327",
   "metadata": {},
   "outputs": [
    {
     "data": {
      "text/plain": [
       "array([7, 2, 1, ..., 4, 5, 6], dtype=uint8)"
      ]
     },
     "execution_count": 5,
     "metadata": {},
     "output_type": "execute_result"
    }
   ],
   "source": [
    "y_test #çıktı test verisi"
   ]
  },
  {
   "cell_type": "code",
   "execution_count": 6,
   "id": "51edec82",
   "metadata": {},
   "outputs": [],
   "source": [
    "from keras import layers #sinir ağ tabakası"
   ]
  },
  {
   "cell_type": "code",
   "execution_count": 7,
   "id": "fc7633f4",
   "metadata": {},
   "outputs": [],
   "source": [
    "from keras import models #modellerle veri filtrelenir"
   ]
  },
  {
   "cell_type": "code",
   "execution_count": 9,
   "id": "17174e3f",
   "metadata": {},
   "outputs": [],
   "source": [
    "network=models.Sequential() "
   ]
  },
  {
   "cell_type": "code",
   "execution_count": 10,
   "id": "2c869679",
   "metadata": {},
   "outputs": [],
   "source": [
    "network.add(layers.Dense(512,activation='relu',input_shape=(28*28,))) #Her nöronu önceki nörona bağlayan sinir ağı\n",
    "#relu ile en yüksek etkisi olan girdi aktifleşir"
   ]
  },
  {
   "cell_type": "code",
   "execution_count": 11,
   "id": "26b7e87f",
   "metadata": {},
   "outputs": [],
   "source": [
    "network.add(layers.Dense(10,activation='softmax')) #10 nöron var"
   ]
  },
  {
   "cell_type": "code",
   "execution_count": 12,
   "id": "3080e475",
   "metadata": {},
   "outputs": [],
   "source": [
    "network.compile(optimizer='rmsprop',loss='categorical_crossentropy',metrics=['accuracy'])"
   ]
  },
  {
   "cell_type": "code",
   "execution_count": 13,
   "id": "8f5966a8",
   "metadata": {},
   "outputs": [],
   "source": [
    "x_train =x_train.reshape((60000,28*28))          #Veri Ön işleme aşaması\n",
    "x_test =x_test.reshape((10000,28*28))"
   ]
  },
  {
   "cell_type": "code",
   "execution_count": 15,
   "id": "cfa3b97b",
   "metadata": {},
   "outputs": [],
   "source": [
    "x_train=x_train.astype('float32')/255\n",
    "x_test=x_test.astype('float32')/255"
   ]
  },
  {
   "cell_type": "code",
   "execution_count": 16,
   "id": "94992b6f",
   "metadata": {},
   "outputs": [],
   "source": [
    "from keras.utils import to_categorical"
   ]
  },
  {
   "cell_type": "code",
   "execution_count": 17,
   "id": "478793bf",
   "metadata": {},
   "outputs": [],
   "source": [
    "y_train=to_categorical(y_train)             #etiketleri kategoriye çevirme\n",
    "y_test=to_categorical(y_test)"
   ]
  },
  {
   "cell_type": "code",
   "execution_count": 19,
   "id": "4a3c36ba",
   "metadata": {},
   "outputs": [
    {
     "name": "stdout",
     "output_type": "stream",
     "text": [
      "Epoch 1/5\n",
      "469/469 [==============================] - 6s 8ms/step - loss: 1.4674 - accuracy: 0.6585\n",
      "Epoch 2/5\n",
      "469/469 [==============================] - 3s 7ms/step - loss: 0.5806 - accuracy: 0.8551\n",
      "Epoch 3/5\n",
      "469/469 [==============================] - 3s 6ms/step - loss: 0.4075 - accuracy: 0.8896\n",
      "Epoch 4/5\n",
      "469/469 [==============================] - 3s 7ms/step - loss: 0.3512 - accuracy: 0.9016\n",
      "Epoch 5/5\n",
      "469/469 [==============================] - 3s 7ms/step - loss: 0.3224 - accuracy: 0.9075\n"
     ]
    },
    {
     "data": {
      "text/plain": [
       "<keras.callbacks.History at 0x27e0e9e37f0>"
      ]
     },
     "execution_count": 19,
     "metadata": {},
     "output_type": "execute_result"
    }
   ],
   "source": [
    "network.fit(x_train,y_train,epochs=5,batch_size=128 )      #Eğitim kısmı  ,  batch size= alt kümelerle eğitme tekniğidir."
   ]
  },
  {
   "cell_type": "code",
   "execution_count": 20,
   "id": "fcbf6437",
   "metadata": {},
   "outputs": [
    {
     "name": "stdout",
     "output_type": "stream",
     "text": [
      "313/313 [==============================] - 1s 3ms/step - loss: 0.3033 - accuracy: 0.9127\n"
     ]
    },
    {
     "data": {
      "text/plain": [
       "[0.3033229112625122, 0.9126999974250793]"
      ]
     },
     "execution_count": 20,
     "metadata": {},
     "output_type": "execute_result"
    }
   ],
   "source": [
    "network.evaluate(x_test,y_test)   # test verisi ile değerlendirme yaptık"
   ]
  },
  {
   "cell_type": "code",
   "execution_count": null,
   "id": "8394c046",
   "metadata": {},
   "outputs": [],
   "source": []
  }
 ],
 "metadata": {
  "kernelspec": {
   "display_name": "Python 3 (ipykernel)",
   "language": "python",
   "name": "python3"
  },
  "language_info": {
   "codemirror_mode": {
    "name": "ipython",
    "version": 3
   },
   "file_extension": ".py",
   "mimetype": "text/x-python",
   "name": "python",
   "nbconvert_exporter": "python",
   "pygments_lexer": "ipython3",
   "version": "3.10.9"
  }
 },
 "nbformat": 4,
 "nbformat_minor": 5
}
