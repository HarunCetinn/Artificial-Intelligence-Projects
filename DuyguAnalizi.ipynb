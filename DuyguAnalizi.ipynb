{
  "nbformat": 4,
  "nbformat_minor": 0,
  "metadata": {
    "colab": {
      "provenance": []
    },
    "kernelspec": {
      "name": "python3",
      "display_name": "Python 3"
    },
    "language_info": {
      "name": "python"
    },
    "accelerator": "GPU",
    "gpuClass": "standard"
  },
  "cells": [
    {
      "cell_type": "code",
      "execution_count": 1,
      "metadata": {
        "id": "SVs1XyNq4rBq"
      },
      "outputs": [],
      "source": [
        "url=\"https://ai.stanford.edu/~amaas/data/sentiment/aclImdb_v1.tar.gz\""
      ]
    },
    {
      "cell_type": "code",
      "source": [
        "import tensorflow as tf"
      ],
      "metadata": {
        "id": "ofeSwA0K4zbA"
      },
      "execution_count": 2,
      "outputs": []
    },
    {
      "cell_type": "code",
      "source": [
        "\n",
        "\n",
        "dataset= tf.keras.utils.get_file(\"aclImdb_v1\",\n",
        "                        url,\n",
        "                        untar=True,\n",
        "                        cache_dir=\".\",\n",
        "                        cache_subdir=\" \")"
      ],
      "metadata": {
        "colab": {
          "base_uri": "https://localhost:8080/"
        },
        "id": "8xL2yHvW4zg2",
        "outputId": "8dc62738-335b-453d-8af1-2f80b81e071d"
      },
      "execution_count": 4,
      "outputs": [
        {
          "output_type": "stream",
          "name": "stdout",
          "text": [
            "Downloading data from https://ai.stanford.edu/~amaas/data/sentiment/aclImdb_v1.tar.gz\n",
            "84125825/84125825 [==============================] - 3s 0us/step\n"
          ]
        }
      ]
    },
    {
      "cell_type": "code",
      "source": [
        "import os\n",
        "dataset_dir=os.path.join(os.path.dirname(dataset),\"aclImdb\")"
      ],
      "metadata": {
        "id": "wGP-YVTi4zjq"
      },
      "execution_count": 5,
      "outputs": []
    },
    {
      "cell_type": "code",
      "source": [
        "os.listdir(dataset_dir) #dosyaları görmek için yazdım"
      ],
      "metadata": {
        "colab": {
          "base_uri": "https://localhost:8080/"
        },
        "id": "-tJVbSDi5Jhd",
        "outputId": "fc9f0dbb-bf14-405b-90ef-0cd73cb82eb4"
      },
      "execution_count": 6,
      "outputs": [
        {
          "output_type": "execute_result",
          "data": {
            "text/plain": [
              "['train', 'imdbEr.txt', 'README', 'test', 'imdb.vocab']"
            ]
          },
          "metadata": {},
          "execution_count": 6
        }
      ]
    },
    {
      "cell_type": "code",
      "source": [
        "train_dir = os.path.join(dataset_dir,\"train\") #kalsör dizinini değişkene atadık\n",
        "os.listdir(train_dir)"
      ],
      "metadata": {
        "colab": {
          "base_uri": "https://localhost:8080/"
        },
        "id": "T-k_dYDg5JkM",
        "outputId": "c54d662a-93b3-4a30-992b-1d48af4756de"
      },
      "execution_count": 7,
      "outputs": [
        {
          "output_type": "execute_result",
          "data": {
            "text/plain": [
              "['unsup',\n",
              " 'urls_unsup.txt',\n",
              " 'labeledBow.feat',\n",
              " 'neg',\n",
              " 'pos',\n",
              " 'unsupBow.feat',\n",
              " 'urls_neg.txt',\n",
              " 'urls_pos.txt']"
            ]
          },
          "metadata": {},
          "execution_count": 7
        }
      ]
    },
    {
      "cell_type": "code",
      "source": [
        "sample_file = os.path.join(train_dir,\"pos/1181_9.txt\")\n",
        "with open(sample_file) as f:   #dosyayı okuduk burada\n",
        "  print(f.read())"
      ],
      "metadata": {
        "colab": {
          "base_uri": "https://localhost:8080/"
        },
        "id": "saHrKMY95Jm6",
        "outputId": "c44ff28c-a641-4bd3-fe7e-94b93d40bf6a"
      },
      "execution_count": 8,
      "outputs": [
        {
          "output_type": "stream",
          "name": "stdout",
          "text": [
            "Rachel Griffiths writes and directs this award winning short film. A heartwarming story about coping with grief and cherishing the memory of those we've loved and lost. Although, only 15 minutes long, Griffiths manages to capture so much emotion and truth onto film in the short space of time. Bud Tingwell gives a touching performance as Will, a widower struggling to cope with his wife's death. Will is confronted by the harsh reality of loneliness and helplessness as he proceeds to take care of Ruth's pet cow, Tulip. The film displays the grief and responsibility one feels for those they have loved and lost. Good cinematography, great direction, and superbly acted. It will bring tears to all those who have lost a loved one, and survived.\n"
          ]
        }
      ]
    },
    {
      "cell_type": "code",
      "source": [
        "##klasör kaldırma işlemi\n",
        "remove_dir = os.path.join(train_dir,\"unsup\")\n",
        "import shutil\n",
        "shutil.rmtree(remove_dir)   #dosyayı sildik"
      ],
      "metadata": {
        "id": "6wFfvGMf5Jpp"
      },
      "execution_count": 9,
      "outputs": []
    },
    {
      "cell_type": "code",
      "source": [
        "##Veri Yükleme aşaması\n",
        "batch_size = 32 ##verileri 32li gruplar halinde alıyoruz\n",
        "seed=42 #rastgele seçilen değerler için kullanırız\n",
        "raw_train_ds=tf.keras.preprocessing.text_dataset_from_directory(\n",
        "    train_dir,\n",
        "    batch_size=batch_size,\n",
        "    validation_split=0.2, #doğrulama verisi\n",
        "    subset=\"training\",\n",
        "    seed=seed\n",
        ")"
      ],
      "metadata": {
        "colab": {
          "base_uri": "https://localhost:8080/"
        },
        "id": "a9hWsihA5Js2",
        "outputId": "4bbf62f3-4086-4647-bc0a-77c6230662c9"
      },
      "execution_count": 10,
      "outputs": [
        {
          "output_type": "stream",
          "name": "stdout",
          "text": [
            "Found 25000 files belonging to 2 classes.\n",
            "Using 20000 files for training.\n"
          ]
        }
      ]
    },
    {
      "cell_type": "code",
      "source": [
        "import numpy as np\n",
        "for text_batch, label_batch in raw_train_ds.take(1):\n",
        "  for i in range(3):\n",
        "    print(\"Review\", text_batch.numpy()[i])\n",
        "    print(\"Label\", label_batch.numpy()[i])   ###3 yorum için metin ve etiketleri aldık"
      ],
      "metadata": {
        "colab": {
          "base_uri": "https://localhost:8080/"
        },
        "id": "v9rHsCO15JvK",
        "outputId": "d3db0c76-7898-45df-96f3-aa7284e6d4c5"
      },
      "execution_count": 11,
      "outputs": [
        {
          "output_type": "stream",
          "name": "stdout",
          "text": [
            "Review b'\"Pandemonium\" is a horror movie spoof that comes off more stupid than funny. Believe me when I tell you, I love comedies. Especially comedy spoofs. \"Airplane\", \"The Naked Gun\" trilogy, \"Blazing Saddles\", \"High Anxiety\", and \"Spaceballs\" are some of my favorite comedies that spoof a particular genre. \"Pandemonium\" is not up there with those films. Most of the scenes in this movie had me sitting there in stunned silence because the movie wasn\\'t all that funny. There are a few laughs in the film, but when you watch a comedy, you expect to laugh a lot more than a few times and that\\'s all this film has going for it. Geez, \"Scream\" had more laughs than this film and that was more of a horror film. How bizarre is that?<br /><br />*1/2 (out of four)'\n",
            "Label 0\n",
            "Review b\"David Mamet is a very interesting and a very un-equal director. His first movie 'House of Games' was the one I liked best, and it set a series of films with characters whose perspective of life changes as they get into complicated situations, and so does the perspective of the viewer.<br /><br />So is 'Homicide' which from the title tries to set the mind of the viewer to the usual crime drama. The principal characters are two cops, one Jewish and one Irish who deal with a racially charged area. The murder of an old Jewish shop owner who proves to be an ancient veteran of the Israeli Independence war triggers the Jewish identity in the mind and heart of the Jewish detective.<br /><br />This is were the flaws of the film are the more obvious. The process of awakening is theatrical and hard to believe, the group of Jewish militants is operatic, and the way the detective eventually walks to the final violent confrontation is pathetic. The end of the film itself is Mamet-like smart, but disappoints from a human emotional perspective.<br /><br />Joe Mantegna and William Macy give strong performances, but the flaws of the story are too evident to be easily compensated.\"\n",
            "Label 0\n",
            "Review b'Great documentary about the lives of NY firefighters during the worst terrorist attack of all time.. That reason alone is why this should be a must see collectors item.. What shocked me was not only the attacks, but the\"High Fat Diet\" and physical appearance of some of these firefighters. I think a lot of Doctors would agree with me that,in the physical shape they were in, some of these firefighters would NOT of made it to the 79th floor carrying over 60 lbs of gear. Having said that i now have a greater respect for firefighters and i realize becoming a firefighter is a life altering job. The French have a history of making great documentary\\'s and that is what this is, a Great Documentary.....'\n",
            "Label 1\n"
          ]
        }
      ]
    },
    {
      "cell_type": "code",
      "source": [
        "raw_val_ds=tf.keras.preprocessing.text_dataset_from_directory(\n",
        "    train_dir,\n",
        "    batch_size=batch_size,\n",
        "    validation_split=0.2,\n",
        "    subset=\"validation\",\n",
        "    seed=seed\n",
        ")       ##validasyon verisini oluşturdum"
      ],
      "metadata": {
        "colab": {
          "base_uri": "https://localhost:8080/"
        },
        "id": "wxnvAg2h8aR7",
        "outputId": "4eeb6e6c-ed07-4465-bfbd-7822491bc80b"
      },
      "execution_count": 12,
      "outputs": [
        {
          "output_type": "stream",
          "name": "stdout",
          "text": [
            "Found 25000 files belonging to 2 classes.\n",
            "Using 5000 files for validation.\n"
          ]
        }
      ]
    },
    {
      "cell_type": "code",
      "source": [
        "test_dir = os.path.join(dataset_dir, \"test\")\n",
        "raw_test_ds=tf.keras.preprocessing.text_dataset_from_directory(\n",
        "    test_dir,\n",
        "    batch_size=batch_size\n",
        ")       #test veri seti oluşturuldu"
      ],
      "metadata": {
        "colab": {
          "base_uri": "https://localhost:8080/"
        },
        "id": "h6D67I1Q8aUy",
        "outputId": "7775a631-e502-4a1c-fa68-0404ed53b74a"
      },
      "execution_count": 13,
      "outputs": [
        {
          "output_type": "stream",
          "name": "stdout",
          "text": [
            "Found 25000 files belonging to 2 classes.\n"
          ]
        }
      ]
    },
    {
      "cell_type": "code",
      "source": [
        "###  Veri Ön İşleme ###\n",
        "import re\n",
        "import string\n",
        "def custom_standardization(input_data): #veri setini temizlemeye çalışıyoruz\n",
        "  lowercase=tf.strings.lower(input_data)\n",
        "  stripped_html=tf.strings.regex_replace(lowercase,'<br />','')\n",
        "  return tf.strings.regex_replace(stripped_html,'[%s]'% re.escape(string.punctuation),'')\n"
      ],
      "metadata": {
        "id": "nvewqI9g8aXj"
      },
      "execution_count": 14,
      "outputs": []
    },
    {
      "cell_type": "code",
      "source": [
        "from tensorflow.keras.layers.experimental.preprocessing import TextVectorization\n",
        "max_features = 10000\n",
        "sequence_length = 250\n",
        "vectorize_layer = TextVectorization(\n",
        "    standardize = custom_standardization,\n",
        "    max_tokens = max_features,\n",
        "    output_mode = \"int\", # tam sayı göstersin diye yaptık\n",
        "    output_sequence_length=sequence_length\n",
        ")\n",
        "     "
      ],
      "metadata": {
        "id": "m1akzDPk8aaN"
      },
      "execution_count": 15,
      "outputs": []
    },
    {
      "cell_type": "code",
      "source": [
        "train_text = raw_train_ds.map(lambda x, y: x)\n",
        "vectorize_layer.adapt(train_text)\n",
        "#metin içeren"
      ],
      "metadata": {
        "id": "xXac7_VN8adA"
      },
      "execution_count": 18,
      "outputs": []
    },
    {
      "cell_type": "code",
      "source": [
        "def vectorize_text(text, label):\n",
        "  text=tf.expand_dims(text,-1)\n",
        "  return vectorize_layer(text),label\n",
        "     "
      ],
      "metadata": {
        "id": "m4IJ7NY4mnSi"
      },
      "execution_count": 19,
      "outputs": []
    },
    {
      "cell_type": "code",
      "source": [
        "text_batch, label_batch = next(iter(raw_train_ds)) #metinleri ve etiketleri barındıran değişenleri oluşturduk"
      ],
      "metadata": {
        "id": "KTrhMGW5mnVH"
      },
      "execution_count": 20,
      "outputs": []
    },
    {
      "cell_type": "code",
      "source": [
        "first_review, first_label = text_batch[0], label_batch[0]\n",
        "print(\"Review\", first_review)\n",
        "print(\"Label\", raw_train_ds.class_names[first_label])\n",
        "print(\"Vectorized review\", vectorize_text(first_review, first_label))"
      ],
      "metadata": {
        "colab": {
          "base_uri": "https://localhost:8080/"
        },
        "id": "sBf2V2aCmnYS",
        "outputId": "13dd737c-32f3-4458-8e25-979bb8efd843"
      },
      "execution_count": 22,
      "outputs": [
        {
          "output_type": "stream",
          "name": "stdout",
          "text": [
            "Review tf.Tensor(b'Every scene was put together perfectly.This movie had a wonderful cast and crew. I mean, how can you have a bad movie with Robert Downey Jr. in it,none have and ever will exist. He has the ability to brighten up any movie with his amazing talent.This movie was perfect! I saw this movie sitting all alone on a movie shelf in \"Blockbuster\" and like it was calling out to me,I couldn\\'t resist picking it up and bringing it home with me. You can call me a sappy romantic, but this movie just touched my heart, not to mention made me laugh with pleasure at the same time. Even though it made me cry,I admit, at the end, the whole movie just brightened up my outlook on life thereafter.I suggested to my horror, action, and pure humor movie buff of a brother,who absolutely adored this movie. This is a movie with a good sense of feeling.It could make you laugh out loud, touch your heart, make you fall in love,and enjoy your life.Every time you purposefully walk past this movie, just be aware that you are consciously making the choice to live and feel this inspiring movie.Who knows? What if it could really happen to you?, and keep your mind open to the mystical wonders of life.', shape=(), dtype=string)\n",
            "Label pos\n",
            "Vectorized review (<tf.Tensor: shape=(1, 250), dtype=int64, numpy=\n",
            "array([[ 166,  133,   13,  266,  291,    1,   17,   66,    4,  385,  174,\n",
            "           3, 1030,   11,  376,   84,   67,   23,   25,    4,   81,   17,\n",
            "          16,  642, 5855, 1771,    8,    1,   25,    3,  121,   75, 1840,\n",
            "          27,   43,    2, 1219,    6,    1,   55,   95,   17,   16,   24,\n",
            "         458,    1,   17,   13,  394,   11,  206,   10,   17, 1206,   31,\n",
            "         594,   20,    4,   17, 4115,    8, 2693,    3,   37,    9,   13,\n",
            "        2758,   44,    6, 7688,  398, 4854, 3641,    9,   55,    3, 2271,\n",
            "           9,  346,   16,   69,   23,   67,  666,   69,    4, 4433,  726,\n",
            "          18,   10,   17,   40, 2696,   56,  526,   21,    6,  739,   90,\n",
            "          69,  467,   16, 1674,   30,    2,  162,   60,   54,  149,    9,\n",
            "          90,   69,    1,  941,   30,    2,  127,    2,  209,   17,   40,\n",
            "           1,   55,   56,    1,   20,  118,    1, 5223,    6,   56,  191,\n",
            "         214,    3,  997,  468,   17, 4190,    5,    4,    1,  401,    1,\n",
            "          10,   17,   10,    7,    4,   17,   16,    4,   49,  272,    5,\n",
            "           1,   96,   92,   23,  467,   44, 1308, 1166,  122,  526,   92,\n",
            "          23,  754,    8,    1,  343,  122,    1,   60,   23,    1, 1132,\n",
            "         490,   10,   17,   40,   26, 1896,   12,   23,   22,    1,  249,\n",
            "           2, 1109,    6,  416,    3,  231,   10, 3556,    1,  674,   47,\n",
            "          45,    9,   96,   62,  576,    6,   23,    3,  370,  122,  342,\n",
            "         960,    6,    2, 6527, 3486,    5,  118,    0,    0,    0,    0,\n",
            "           0,    0,    0,    0,    0,    0,    0,    0,    0,    0,    0,\n",
            "           0,    0,    0,    0,    0,    0,    0,    0,    0,    0,    0,\n",
            "           0,    0,    0,    0,    0,    0,    0,    0]])>, <tf.Tensor: shape=(), dtype=int32, numpy=1>)\n"
          ]
        }
      ]
    },
    {
      "cell_type": "code",
      "source": [
        "print(\"128 -->\",vectorize_layer.get_vocabulary()[128]) #128. kelimeye karşılık gelen değeri çağırdık\n",
        "print(\"1312 -->\",vectorize_layer.get_vocabulary()[1312])\n",
        "print(\"Vocabulary size: {}\" .format(len(vectorize_layer.get_vocabulary())))\n",
        "#en son kelime sayısını aldık"
      ],
      "metadata": {
        "colab": {
          "base_uri": "https://localhost:8080/"
        },
        "id": "B0V2pPGamnbb",
        "outputId": "e094237f-543d-42f9-a7c2-d7e852aea5f3"
      },
      "execution_count": 24,
      "outputs": [
        {
          "output_type": "stream",
          "name": "stdout",
          "text": [
            "128 --> these\n",
            "1312 --> makeup\n",
            "Vocabulary size: 10000\n"
          ]
        }
      ]
    },
    {
      "cell_type": "code",
      "source": [
        "train_ds = raw_train_ds.map(vectorize_text)\n",
        "val_ds = raw_val_ds.map(vectorize_text)\n",
        "test_ds = raw_test_ds.map(vectorize_text)"
      ],
      "metadata": {
        "id": "8YLfitt_mndG"
      },
      "execution_count": 25,
      "outputs": []
    },
    {
      "cell_type": "code",
      "source": [
        "AUTOTUNE = tf.data.AUTOTUNE\n",
        "train_ds = train_ds.cache().prefetch(buffer_size=AUTOTUNE)\n",
        "val_ds = val_ds.cache().prefetch(buffer_size=AUTOTUNE)\n",
        "test_ds = test_ds.cache().prefetch(buffer_size=AUTOTUNE) #prefesh veri ön işleme ve model uygulamayı birlikte yapar"
      ],
      "metadata": {
        "id": "oVGtm0uQ8afn"
      },
      "execution_count": 26,
      "outputs": []
    },
    {
      "cell_type": "code",
      "source": [
        "embedding_dim = 16\n",
        "model = tf.keras.Sequential([\n",
        "  tf.keras.layers.Embedding(max_features +1, embedding_dim),\n",
        "  tf.keras.layers.Dropout(0.2), #çıktıların %20sini sildik, düzleştirme yaptık.\n",
        "  tf.keras.layers.GlobalAveragePooling1D(),\n",
        "  tf.keras.layers.Dropout(0.2),\n",
        "  tf.keras.layers.Dense(1)                     \n",
        "])\n",
        "#modeli kuracağız "
      ],
      "metadata": {
        "id": "KKBZptFjm4SF"
      },
      "execution_count": 27,
      "outputs": []
    },
    {
      "cell_type": "code",
      "source": [
        "model.summary()"
      ],
      "metadata": {
        "colab": {
          "base_uri": "https://localhost:8080/"
        },
        "id": "UqaGhnYPm4VA",
        "outputId": "b7d53289-4a07-4ba2-bacb-646666c64523"
      },
      "execution_count": 28,
      "outputs": [
        {
          "output_type": "stream",
          "name": "stdout",
          "text": [
            "Model: \"sequential\"\n",
            "_________________________________________________________________\n",
            " Layer (type)                Output Shape              Param #   \n",
            "=================================================================\n",
            " embedding (Embedding)       (None, None, 16)          160016    \n",
            "                                                                 \n",
            " dropout (Dropout)           (None, None, 16)          0         \n",
            "                                                                 \n",
            " global_average_pooling1d (G  (None, 16)               0         \n",
            " lobalAveragePooling1D)                                          \n",
            "                                                                 \n",
            " dropout_1 (Dropout)         (None, 16)                0         \n",
            "                                                                 \n",
            " dense (Dense)               (None, 1)                 17        \n",
            "                                                                 \n",
            "=================================================================\n",
            "Total params: 160,033\n",
            "Trainable params: 160,033\n",
            "Non-trainable params: 0\n",
            "_________________________________________________________________\n"
          ]
        }
      ]
    },
    {
      "cell_type": "code",
      "source": [
        "#Modeli derleme aşaması\n",
        "model.compile(loss=tf.keras.losses.BinaryCrossentropy(from_logits=True),\n",
        "              optimizer = \"adam\",\n",
        "              metrics=tf.metrics.BinaryAccuracy(threshold=0.0)           \n",
        ")"
      ],
      "metadata": {
        "id": "cHHJKHXlm4Xz"
      },
      "execution_count": 29,
      "outputs": []
    },
    {
      "cell_type": "code",
      "source": [
        "#Modelin eğitim aşaması\n",
        "epochs=10\n",
        "histroy=model.fit(\n",
        "    train_ds,\n",
        "    validation_data=val_ds,\n",
        "    epochs=epochs\n",
        ")"
      ],
      "metadata": {
        "colab": {
          "base_uri": "https://localhost:8080/"
        },
        "id": "78qwYevbm4al",
        "outputId": "acd9b197-bfb3-44e5-f606-be76b30798a2"
      },
      "execution_count": 30,
      "outputs": [
        {
          "output_type": "stream",
          "name": "stdout",
          "text": [
            "Epoch 1/10\n",
            "625/625 [==============================] - 61s 90ms/step - loss: 0.6673 - binary_accuracy: 0.6808 - val_loss: 0.6218 - val_binary_accuracy: 0.7708\n",
            "Epoch 2/10\n",
            "625/625 [==============================] - 3s 5ms/step - loss: 0.5559 - binary_accuracy: 0.7979 - val_loss: 0.5056 - val_binary_accuracy: 0.8202\n",
            "Epoch 3/10\n",
            "625/625 [==============================] - 2s 4ms/step - loss: 0.4520 - binary_accuracy: 0.8416 - val_loss: 0.4270 - val_binary_accuracy: 0.8470\n",
            "Epoch 4/10\n",
            "625/625 [==============================] - 3s 5ms/step - loss: 0.3851 - binary_accuracy: 0.8619 - val_loss: 0.3797 - val_binary_accuracy: 0.8590\n",
            "Epoch 5/10\n",
            "625/625 [==============================] - 3s 4ms/step - loss: 0.3417 - binary_accuracy: 0.8754 - val_loss: 0.3506 - val_binary_accuracy: 0.8666\n",
            "Epoch 6/10\n",
            "625/625 [==============================] - 4s 6ms/step - loss: 0.3114 - binary_accuracy: 0.8852 - val_loss: 0.3314 - val_binary_accuracy: 0.8706\n",
            "Epoch 7/10\n",
            "625/625 [==============================] - 3s 4ms/step - loss: 0.2871 - binary_accuracy: 0.8970 - val_loss: 0.3177 - val_binary_accuracy: 0.8730\n",
            "Epoch 8/10\n",
            "625/625 [==============================] - 2s 4ms/step - loss: 0.2687 - binary_accuracy: 0.9014 - val_loss: 0.3084 - val_binary_accuracy: 0.8750\n",
            "Epoch 9/10\n",
            "625/625 [==============================] - 2s 4ms/step - loss: 0.2512 - binary_accuracy: 0.9082 - val_loss: 0.3014 - val_binary_accuracy: 0.8780\n",
            "Epoch 10/10\n",
            "625/625 [==============================] - 3s 5ms/step - loss: 0.2376 - binary_accuracy: 0.9148 - val_loss: 0.2965 - val_binary_accuracy: 0.8788\n"
          ]
        }
      ]
    },
    {
      "cell_type": "code",
      "source": [
        "#Modelin performansını değerlendireceğiz \n",
        "loss, accuracy = model.evaluate(test_ds)\n",
        "print(\"Loss: \", loss)\n",
        "print(\"Accuracy: \", accuracy)"
      ],
      "metadata": {
        "colab": {
          "base_uri": "https://localhost:8080/"
        },
        "id": "PGeFZY9lm4dX",
        "outputId": "0bfc6bda-5f41-4ec8-c649-095dc4c5db47"
      },
      "execution_count": 31,
      "outputs": [
        {
          "output_type": "stream",
          "name": "stdout",
          "text": [
            "782/782 [==============================] - 3s 4ms/step - loss: 0.3145 - binary_accuracy: 0.8712\n",
            "Loss:  0.31448790431022644\n",
            "Accuracy:  0.8712400197982788\n"
          ]
        }
      ]
    },
    {
      "cell_type": "code",
      "source": [
        "history_dict=histroy.history\n",
        "history_dict.keys()\n",
        "\n",
        "#loss ve accuracy grafiğini çizdireceğim aşağıda"
      ],
      "metadata": {
        "colab": {
          "base_uri": "https://localhost:8080/"
        },
        "id": "apkBRkL1m4gW",
        "outputId": "9d3a96d7-eee0-4aaf-e2a8-c832ea34513c"
      },
      "execution_count": 33,
      "outputs": [
        {
          "output_type": "execute_result",
          "data": {
            "text/plain": [
              "dict_keys(['loss', 'binary_accuracy', 'val_loss', 'val_binary_accuracy'])"
            ]
          },
          "metadata": {},
          "execution_count": 33
        }
      ]
    },
    {
      "cell_type": "code",
      "source": [
        "import matplotlib.pyplot as plt\n",
        "acc = history_dict[\"binary_accuracy\"]\n",
        "val_acc = history_dict[\"val_binary_accuracy\"]\n",
        "loss = history_dict[\"loss\"]\n",
        "val_loss = history_dict[\"val_loss\"]"
      ],
      "metadata": {
        "id": "7QtKGnfam4iy"
      },
      "execution_count": 34,
      "outputs": []
    },
    {
      "cell_type": "code",
      "source": [
        "epochs = range(1,len(acc)+1)\n",
        "plt.plot(epochs, loss, \"bo\", label=\"Training loss\") #loss grafiği\n",
        "plt.plot(epochs, val_loss, \"b\", label=\"Validation loss\") #validasyon loss grafiği\n",
        "plt.title(\"Training and validation loss\")\n",
        "plt.xlabel(\"Epochs\")\n",
        "plt.ylabel(\"Loss\")\n",
        "plt.legend()\n",
        "plt.show()"
      ],
      "metadata": {
        "colab": {
          "base_uri": "https://localhost:8080/",
          "height": 295
        },
        "id": "XfhExLGVm4lT",
        "outputId": "f146bbfb-0d65-4279-c21c-817c810e67c0"
      },
      "execution_count": 35,
      "outputs": [
        {
          "output_type": "display_data",
          "data": {
            "text/plain": [
              "<Figure size 432x288 with 1 Axes>"
            ],
            "image/png": "[encoded data removed]"
          },
          "metadata": {
            "needs_background": "light"
          }
        }
      ]
    },
    {
      "cell_type": "code",
      "source": [
        "plt.plot(epochs, acc, \"bo\", label=\"Training acc\")\n",
        "plt.plot(epochs, val_acc, \"b\", label=\"Validation acc\")\n",
        "plt.title(\"Training and validation accuracy\")\n",
        "plt.xlabel(\"Epochs\")\n",
        "plt.ylabel(\"Accuracy\")\n",
        "plt.legend(loc=\"lower right\")\n",
        "plt.show()\n",
        "\n",
        "#yine aynı mantık bu sefer loss değil accuracy grafiği çizdirdim"
      ],
      "metadata": {
        "colab": {
          "base_uri": "https://localhost:8080/",
          "height": 295
        },
        "id": "tpViKttrnL7J",
        "outputId": "63264133-e5b5-463a-b899-e7427e5341ae"
      },
      "execution_count": 36,
      "outputs": [
        {
          "output_type": "display_data",
          "data": {
            "text/plain": [
              "<Figure size 432x288 with 1 Axes>"
            ],
            "image/png": "[encoded data removed]"
          },
          "metadata": {
            "needs_background": "light"
          }
        }
      ]
    },
    {
      "cell_type": "code",
      "source": [
        "#Model overfitting oldu, ezber yaptı, bunu düzeltmemiz lazım\n",
        "export_model = tf.keras.Sequential([\n",
        "                                    vectorize_layer,\n",
        "                                    model,\n",
        "                                    tf.keras.layers.Activation(\"sigmoid\")\n",
        "])"
      ],
      "metadata": {
        "id": "78_0MkM7nL_F"
      },
      "execution_count": 37,
      "outputs": []
    },
    {
      "cell_type": "code",
      "source": [
        "export_model.compile(loss=tf.keras.losses.BinaryCrossentropy(from_logits=False),\n",
        "                     optimizer = \"adam\",\n",
        "                     metrics=[\"accuracy\"])"
      ],
      "metadata": {
        "id": "TYS33-v9nMBp"
      },
      "execution_count": 38,
      "outputs": []
    },
    {
      "cell_type": "code",
      "source": [
        "loss, accuracy = export_model.evaluate(raw_test_ds)\n",
        "print(accuracy)"
      ],
      "metadata": {
        "colab": {
          "base_uri": "https://localhost:8080/"
        },
        "id": "H7qLPTI0nMDn",
        "outputId": "8d369a0d-9f68-4256-e9e8-2a8cf8d7257a"
      },
      "execution_count": 39,
      "outputs": [
        {
          "output_type": "stream",
          "name": "stdout",
          "text": [
            "782/782 [==============================] - 4s 5ms/step - loss: 0.3145 - accuracy: 0.8712\n",
            "0.8712400197982788\n"
          ]
        }
      ]
    },
    {
      "cell_type": "code",
      "source": [
        "#Yeni verileri tahmin edicez\n",
        "examples = [\n",
        "            \"The movie was perfect\",\n",
        "            \"The movie was okay\",\n",
        "            \"The movie was awful\"\n",
        "]"
      ],
      "metadata": {
        "id": "PgTUv2ZsnMGc"
      },
      "execution_count": 40,
      "outputs": []
    },
    {
      "cell_type": "code",
      "source": [
        "export_model.predict(examples) #0.5den büyükse pozitif duygu, değilse negatif duygu"
      ],
      "metadata": {
        "colab": {
          "base_uri": "https://localhost:8080/"
        },
        "id": "F8NCgtu4nMJh",
        "outputId": "e06e957f-e9d3-4a41-c72a-93831581eb4f"
      },
      "execution_count": 42,
      "outputs": [
        {
          "output_type": "stream",
          "name": "stdout",
          "text": [
            "1/1 [==============================] - 0s 36ms/step\n"
          ]
        },
        {
          "output_type": "execute_result",
          "data": {
            "text/plain": [
              "array([[0.6286795],\n",
              "       [0.4477523],\n",
              "       [0.3352925]], dtype=float32)"
            ]
          },
          "metadata": {},
          "execution_count": 42
        }
      ]
    }
  ]
}